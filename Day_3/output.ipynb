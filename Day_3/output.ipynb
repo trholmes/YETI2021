{
 "cells": [
  {
   "cell_type": "code",
   "execution_count": 54,
   "metadata": {},
   "outputs": [],
   "source": [
    "include(\"../Day_3/code.jl\")\n",
    "using Primes"
   ]
  },
  {
   "cell_type": "code",
   "execution_count": 55,
   "metadata": {},
   "outputs": [
    {
     "name": "stdout",
     "output_type": "stream",
     "text": [
      "803.0"
     ]
    }
   ],
   "source": [
    "pAr=primes(0,300)\n",
    "fiver=pfind(pAr)\n",
    "print(fiver)"
   ]
  }
 ],
 "metadata": {
  "interpreter": {
   "hash": "4030b0967aecb4400641b2c49790bb267daf81d4fcef76ab879b881aa026f1b9"
  },
  "kernelspec": {
   "display_name": "Julia 8 Threads 1.7.0",
   "language": "julia",
   "name": "julia-8-threads-1.7"
  },
  "language_info": {
   "file_extension": ".jl",
   "mimetype": "application/julia",
   "name": "julia",
   "version": "1.7.0"
  },
  "orig_nbformat": 4
 },
 "nbformat": 4,
 "nbformat_minor": 2
}
