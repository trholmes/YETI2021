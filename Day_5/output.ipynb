{
 "cells": [
  {
   "cell_type": "code",
   "execution_count": 176,
   "metadata": {},
   "outputs": [],
   "source": [
    "using Images\n",
    "using .Threads\n",
    "include(\"../Day_5/code.jl\");"
   ]
  },
  {
   "cell_type": "code",
   "execution_count": 177,
   "metadata": {},
   "outputs": [],
   "source": [
    "fibs=fib()\n",
    "n=findn(fibs)\n",
    "values=read(\"../Day_4/decoded.txt\",String)\n",
    "a,height=imageread(values,n)\n",
    "img=a[1:Int(height),1:Int(n)]\n",
    "save(\"message.png\",a)"
   ]
  }
 ],
 "metadata": {
  "kernelspec": {
   "display_name": "Julia 8 Threads 1.7.0",
   "language": "julia",
   "name": "julia-8-threads-1.7"
  },
  "language_info": {
   "file_extension": ".jl",
   "mimetype": "application/julia",
   "name": "julia",
   "version": "1.7.0"
  },
  "orig_nbformat": 4
 },
 "nbformat": 4,
 "nbformat_minor": 2
}
