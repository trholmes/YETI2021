{
 "cells": [
  {
   "cell_type": "code",
   "execution_count": 94,
   "metadata": {},
   "outputs": [],
   "source": [
    "using .Threads\n",
    "include(\"../Day_4/code.jl\");"
   ]
  },
  {
   "cell_type": "code",
   "execution_count": 96,
   "metadata": {},
   "outputs": [
    {
     "data": {
      "text/plain": [
       "33120000"
      ]
     },
     "execution_count": 96,
     "metadata": {},
     "output_type": "execute_result"
    }
   ],
   "source": [
    "code=read(\"SecretCode.txt\",String);\n",
    "codex=vigenere()\n",
    "out=decrypt(code,codex)\n",
    "open(\"decoded.txt\",\"w\") do io\n",
    "    write(io,out)\n",
    "end"
   ]
  }
 ],
 "metadata": {
  "interpreter": {
   "hash": "4030b0967aecb4400641b2c49790bb267daf81d4fcef76ab879b881aa026f1b9"
  },
  "kernelspec": {
   "display_name": "Julia 8 Threads 1.7.0",
   "language": "julia",
   "name": "julia-8-threads-1.7"
  },
  "language_info": {
   "file_extension": ".jl",
   "mimetype": "application/julia",
   "name": "julia",
   "version": "1.7.0"
  },
  "orig_nbformat": 4
 },
 "nbformat": 4,
 "nbformat_minor": 2
}
